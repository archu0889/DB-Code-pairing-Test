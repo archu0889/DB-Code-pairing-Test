{
 "cells": [
  {
   "cell_type": "markdown",
   "id": "55531b22",
   "metadata": {},
   "source": [
    "#### Q1 Calculate n!\n",
    "n = 10, 100, 1000, ..\n",
    "\n",
    "Print first 10 digits to verify the result\n"
   ]
  },
  {
   "cell_type": "code",
   "execution_count": null,
   "id": "6ac052d7",
   "metadata": {},
   "outputs": [
    {
     "name": "stdout",
     "output_type": "stream",
     "text": [
      "3628800 ,\n",
      "9332621544 ,\n",
      "4023872600 ,\n",
      "2846259680 ,\n",
      "2824229407 ,\n",
      "8263931688 ,\n"
     ]
    }
   ],
   "source": [
    "import sys\n",
    "sys.set_int_max_str_digits(0)\n",
    "n = [10,100,1000,10000,100000,1000000,10000000,100000000,1000000000,10000000000]\n",
    "for x in n:\n",
    "    fact = 1\n",
    "    i=1\n",
    "    for i in range(1, x+1):\n",
    "        fact = fact * i\n",
    "    first10 = int(str(fact)[:10])\n",
    "    print(first10,\",\")"
   ]
  },
  {
   "cell_type": "markdown",
   "id": "d0d2e609",
   "metadata": {},
   "source": [
    "##### Q2.\tDetect potential functional and execution issues:\n",
    "\n",
    "```void transfer(Account from, Account to, int amount) {\n",
    "synchronized(from){\n",
    "   synchronized(to) {\n",
    "          from.debit(amount);\n",
    "          to.credit(amount);         \n",
    "   }\n",
    "}\n",
    "```"
   ]
  },
  {
   "cell_type": "markdown",
   "id": "b32b41b8",
   "metadata": {},
   "source": [
    "##### SOLUTION:\n",
    "* There is no check if the “from” account has the balance greater than or equal to “amount”. This will give us error if there is no enough balance to debit. \n",
    "* What if amount being passed contains decimal values – It’s taking “amount” as integer. Hence decimal values may get lost and there should be a rounding off step before calling this “transfer” function.\n",
    "* There is one closing brace } missing.\n",
    "4.“from” and “to” accounts should be validated and only if VALID, “transfer” function should be called otherwise ABORT.\n",
    "5.\tAs per my understanding, the synchronized keyword is a modifier that locks a method so that only one thread can use it at a time. Since ‘from’ and ‘to’ objects are synchronized separately, there could be a possibility of deadlock situation. Hence instead of defining ‘from’ and ‘to’ objects as synchronized separately, we can define the function transfer as synchronized - public static synchronized void transfer(Account from, Account to, int amount).\n"
   ]
  },
  {
   "cell_type": "markdown",
   "id": "7ac47857",
   "metadata": {},
   "source": [
    "#### Q3. Write a Program to convert below string to integer\n",
    "Input String = \"$180,240/y\"\n",
    "Output Integer = 180240"
   ]
  },
  {
   "cell_type": "code",
   "execution_count": 1,
   "id": "34152b42",
   "metadata": {},
   "outputs": [
    {
     "name": "stdout",
     "output_type": "stream",
     "text": [
      "Output Integer=  180240\n"
     ]
    }
   ],
   "source": [
    "import re\n",
    "input_str=\"$180,240/y\"\n",
    "input1=re.sub('[^0-9]', '', input_str)\n",
    "output=int(input1)\n",
    "print(\"Output Integer= \", output)"
   ]
  },
  {
   "cell_type": "code",
   "execution_count": null,
   "id": "d72ec26b",
   "metadata": {},
   "outputs": [],
   "source": []
  }
 ],
 "metadata": {
  "kernelspec": {
   "display_name": "Python 3 (ipykernel)",
   "language": "python",
   "name": "python3"
  },
  "language_info": {
   "codemirror_mode": {
    "name": "ipython",
    "version": 3
   },
   "file_extension": ".py",
   "mimetype": "text/x-python",
   "name": "python",
   "nbconvert_exporter": "python",
   "pygments_lexer": "ipython3",
   "version": "3.10.9"
  }
 },
 "nbformat": 4,
 "nbformat_minor": 5
}
